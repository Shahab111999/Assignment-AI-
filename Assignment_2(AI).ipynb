{
 "cells": [
  {
   "cell_type": "markdown",
   "metadata": {},
   "source": [
    "<h3>Q no 1:  Write a python program to find number of occurrences of given number in a list with out using built-in methods</h3>\n",
    "<h4>**1 generate a list of some random num which is repeated again and again</h4>\n",
    "<h4>**2 take user input any number</h4>\n",
    "<h4>**3 find the number of occurrences of that num in your list</h4>\n",
    "<h4>**4 print some message to user with that result</h4>"
   ]
  },
  {
   "cell_type": "code",
   "execution_count": 132,
   "metadata": {},
   "outputs": [
    {
     "name": "stdout",
     "output_type": "stream",
     "text": [
      "Enter any number:5\n",
      "Number is: 5\n",
      "2\n"
     ]
    }
   ],
   "source": [
    "c=0\n",
    "num=[1,1,9,0,4,2,1,5,7,9,0,5]\n",
    "use_num= int(input(\"Enter any number:\"))\n",
    "print(\"Number is:\",use_num)\n",
    "for i in num:\n",
    "    if i==use_num:\n",
    "        c=c+1\n",
    "print(c)"
   ]
  },
  {
   "cell_type": "code",
   "execution_count": null,
   "metadata": {},
   "outputs": [],
   "source": []
  },
  {
   "cell_type": "markdown",
   "metadata": {},
   "source": [
    "<h3>Q no 2:   [\"www.zframez.com\", \"www.wikipedia.org\", \"www.asp.net\", \"www.abcd.in\"]\n",
    "<br/><br/><br/><br/><br/>\n",
    "Write a python program to print website suffixes (com , org , net ,in) from this list\n",
    "</h3>"
   ]
  },
  {
   "cell_type": "code",
   "execution_count": 2,
   "metadata": {},
   "outputs": [
    {
     "name": "stdout",
     "output_type": "stream",
     "text": [
      "com\n",
      "org\n",
      "net\n",
      "in\n"
     ]
    }
   ],
   "source": [
    "link = [\"www.zframez.com\", \"www.wikipedia.org\", \"www.asp.net\", \"www.abcd.in\"]\n",
    "a=[]\n",
    "for x in range(0,len(link)):\n",
    "    a.append(link[x].split(\".\"))\n",
    "    print(a[x][2])"
   ]
  },
  {
   "cell_type": "code",
   "execution_count": null,
   "metadata": {},
   "outputs": [],
   "source": []
  },
  {
   "cell_type": "markdown",
   "metadata": {},
   "source": [
    "<h3> Q no 3 : Write a program which can compute the factorial of a given numbers.</h3>\n",
    "<br/>\n",
    "<br/>\n",
    "<h4>**1 first take user input any number</h4>\n",
    "<h4>**2 calculate factorial of that input and then print the result to user</h4>"
   ]
  },
  {
   "cell_type": "code",
   "execution_count": 18,
   "metadata": {},
   "outputs": [
    {
     "name": "stdout",
     "output_type": "stream",
     "text": [
      "Enter Number:5\n"
     ]
    }
   ],
   "source": [
    "fact=(int(input(\"Enter Number:\")))\n",
    "numb=1"
   ]
  },
  {
   "cell_type": "code",
   "execution_count": 19,
   "metadata": {},
   "outputs": [],
   "source": [
    "for i in range(1,fact+1):\n",
    "    numb=numb*i"
   ]
  },
  {
   "cell_type": "code",
   "execution_count": 21,
   "metadata": {},
   "outputs": [
    {
     "name": "stdout",
     "output_type": "stream",
     "text": [
      "120\n"
     ]
    }
   ],
   "source": [
    "print(numb)"
   ]
  },
  {
   "cell_type": "code",
   "execution_count": null,
   "metadata": {},
   "outputs": [],
   "source": []
  },
  {
   "cell_type": "markdown",
   "metadata": {},
   "source": [
    "<h3>Q 4 (a) :  If you could invite anyone, living or deceased, to dinner, who\n",
    "would you invite? Make a list that includes at least three people you’d like to\n",
    "invite to dinner. Then use your list to print a message to each person, inviting\n",
    "them to dinner.</h3>"
   ]
  },
  {
   "cell_type": "code",
   "execution_count": 7,
   "metadata": {},
   "outputs": [
    {
     "name": "stdout",
     "output_type": "stream",
     "text": [
      "Hello, hope you are fine there is a little birthday party and I invited Zeeshan come and join us\n",
      "Hello, hope you are fine there is a little birthday party and I invited Shery come and join us\n",
      "Hello, hope you are fine there is a little birthday party and I invited Abdullah come and join us\n",
      "Hello, hope you are fine there is a little birthday party and I invited Haris come and join us\n",
      "Hello, hope you are fine there is a little birthday party and I invited Hussnain come and join us\n"
     ]
    }
   ],
   "source": [
    "people = [\"Zeeshan\",\"Shery\",\"Abdullah\",\"Haris\",\"Hussnain\"]\n",
    "for i in people:\n",
    "    print(\"Hello, hope you are fine there is a little birthday party and I invited \"+i+\" come and join us\")"
   ]
  },
  {
   "cell_type": "markdown",
   "metadata": {},
   "source": [
    "<h3>Q 4 (b) : You just heard that one of your guests can’t make the\n",
    "dinner, so you need to send out a new set of invitations. You’ll have to think of\n",
    "someone else to invite.<br/></br><br/>\n",
    "•\t Start with your program from Q 4 (a). Add a print statement at the\n",
    "end of your program stating the name of the guest who can’t make it.<br/></br><br/>\n",
    "•\t Modify your list, replacing the name of the guest who can’t make it with\n",
    "the name of the new person you are inviting.<br/></br><br/>\n",
    "•\t Print a second set of invitation messages, one for each person who is still\n",
    "in your list.<br/></br><br/></h3>"
   ]
  },
  {
   "cell_type": "code",
   "execution_count": 8,
   "metadata": {},
   "outputs": [
    {
     "name": "stdout",
     "output_type": "stream",
     "text": [
      "['Zeeshan', 'Shery', 'Abdullah', 'Haris', 'Hussnain']\n"
     ]
    }
   ],
   "source": [
    "print(people)"
   ]
  },
  {
   "cell_type": "code",
   "execution_count": 9,
   "metadata": {},
   "outputs": [],
   "source": [
    "people.remove(\"Shery\")\n",
    "people.append(\"Sara\")"
   ]
  },
  {
   "cell_type": "code",
   "execution_count": 10,
   "metadata": {},
   "outputs": [
    {
     "name": "stdout",
     "output_type": "stream",
     "text": [
      "['Zeeshan', 'Abdullah', 'Haris', 'Hussnain', 'Sara']\n"
     ]
    }
   ],
   "source": [
    "\n",
    "print(people)"
   ]
  },
  {
   "cell_type": "markdown",
   "metadata": {},
   "source": [
    "<h3>Q 4 (c) : You just found a bigger dinner table, so now more space is\n",
    "available. Think of three more guests to invite to dinner.<br/></br><br/>\n",
    "•\t Start with your program from Q 4 (a) and (b) Add a print\n",
    "statement to the end of your program informing people that you found a\n",
    "bigger dinner table.<br/></br><br/>\n",
    "•\t Use insert() to add one new guest to the beginning of your list.<br/></br><br/>\n",
    "•\t Use insert() to add one new guest to the middle of your list.<br/></br><br/>\n",
    "•\t Use append() to add one new guest to the end of your list.<br/></br><br/>\n",
    "•\t Print a new set of invitation messages, one for each person in your list.<br/></br><br/></h3>"
   ]
  },
  {
   "cell_type": "code",
   "execution_count": 120,
   "metadata": {},
   "outputs": [],
   "source": [
    "people.insert(0,\"tabish\")\n",
    "people.insert(4,\"mubashir\")\n",
    "people.append(\"Fawad\")"
   ]
  },
  {
   "cell_type": "code",
   "execution_count": 121,
   "metadata": {},
   "outputs": [
    {
     "name": "stdout",
     "output_type": "stream",
     "text": [
      "['tabish', 'Zeeshan', 'Shery', 'Abdullah', 'mubashir', 'Haris', 'Hussnain', 'Fawad']\n"
     ]
    }
   ],
   "source": [
    "print(people)"
   ]
  },
  {
   "cell_type": "code",
   "execution_count": null,
   "metadata": {},
   "outputs": [],
   "source": []
  },
  {
   "cell_type": "markdown",
   "metadata": {},
   "source": [
    "<h5> Q 5 : Here you have some data in variable below, your task is to make a list of specific word Surah then print the list and length of list</h5>\n"
   ]
  },
  {
   "cell_type": "code",
   "execution_count": 133,
   "metadata": {},
   "outputs": [],
   "source": [
    "data = \"Sura I Who believe in the Unseen, Sura Are steadfast in prayer, And spend Sura out of what We Have provided for them;\""
   ]
  },
  {
   "cell_type": "code",
   "execution_count": 135,
   "metadata": {},
   "outputs": [
    {
     "name": "stdout",
     "output_type": "stream",
     "text": [
      "3\n"
     ]
    },
    {
     "data": {
      "text/plain": [
       "['Sura', 'Sura', 'Sura']"
      ]
     },
     "execution_count": 135,
     "metadata": {},
     "output_type": "execute_result"
    }
   ],
   "source": [
    "k=[]\n",
    "for i in data.split():\n",
    "    if i==\"Sura\":\n",
    "        k.append(i)\n",
    "print(len(k))\n",
    "k"
   ]
  },
  {
   "cell_type": "code",
   "execution_count": null,
   "metadata": {},
   "outputs": [],
   "source": []
  }
 ],
 "metadata": {
  "kernelspec": {
   "display_name": "Python 3",
   "language": "python",
   "name": "python3"
  },
  "language_info": {
   "codemirror_mode": {
    "name": "ipython",
    "version": 3
   },
   "file_extension": ".py",
   "mimetype": "text/x-python",
   "name": "python",
   "nbconvert_exporter": "python",
   "pygments_lexer": "ipython3",
   "version": "3.6.5"
  }
 },
 "nbformat": 4,
 "nbformat_minor": 2
}
